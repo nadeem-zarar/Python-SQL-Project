{
 "cells": [
  {
   "cell_type": "code",
   "execution_count": 1,
   "id": "383d455d-f95a-4279-8dd6-508ff2ab9465",
   "metadata": {},
   "outputs": [],
   "source": [
    "import pandas as pd\n",
    "import numpy as np\n",
    "import matplotlib.pyplot as plt\n",
    "import seaborn as sns"
   ]
  },
  {
   "cell_type": "code",
   "execution_count": 2,
   "id": "4e30b01c-1dbe-4d6c-b8f6-23e05a62feab",
   "metadata": {},
   "outputs": [],
   "source": [
    "import mysql.connector"
   ]
  },
  {
   "cell_type": "code",
   "execution_count": 3,
   "id": "9a24f99e-8da1-48cc-82f7-98940e2754b3",
   "metadata": {},
   "outputs": [],
   "source": [
    "import mysql.connector\n",
    "mydb = mysql.connector.connect(host='localhost',user='root',passwd='nadeem123',database = 'classicmodels')"
   ]
  },
  {
   "cell_type": "code",
   "execution_count": 4,
   "id": "d2990439-f53c-4fef-9820-fe421fa9a523",
   "metadata": {},
   "outputs": [],
   "source": [
    "cursordb = mydb.cursor()"
   ]
  },
  {
   "cell_type": "code",
   "execution_count": 5,
   "id": "32f7f7f8-1867-42e2-a68f-c1e643d24a28",
   "metadata": {},
   "outputs": [
    {
     "data": {
      "text/plain": [
       "[('customer_wise_orders',),\n",
       " ('customers',),\n",
       " ('employees',),\n",
       " ('offices',),\n",
       " ('orderdetails',),\n",
       " ('orders',),\n",
       " ('payments',),\n",
       " ('productlines',),\n",
       " ('products',)]"
      ]
     },
     "execution_count": 5,
     "metadata": {},
     "output_type": "execute_result"
    }
   ],
   "source": [
    "cursordb.execute('show tables;')\n",
    "cursordb.fetchall()"
   ]
  },
  {
   "cell_type": "code",
   "execution_count": 6,
   "id": "1ea11e74-86e3-48ec-8cc1-83f945bb6c3c",
   "metadata": {},
   "outputs": [],
   "source": [
    "cursordb.execute('select * from offices;')\n",
    "offices_col = cursordb.column_names\n",
    "offices = cursordb.fetchall()\n",
    "offices = pd.DataFrame(offices,columns = offices_col)"
   ]
  },
  {
   "cell_type": "code",
   "execution_count": 7,
   "id": "50d00e64-2a8d-432b-9ef6-8e934bb587b8",
   "metadata": {},
   "outputs": [
    {
     "data": {
      "text/html": [
       "<div>\n",
       "<style scoped>\n",
       "    .dataframe tbody tr th:only-of-type {\n",
       "        vertical-align: middle;\n",
       "    }\n",
       "\n",
       "    .dataframe tbody tr th {\n",
       "        vertical-align: top;\n",
       "    }\n",
       "\n",
       "    .dataframe thead th {\n",
       "        text-align: right;\n",
       "    }\n",
       "</style>\n",
       "<table border=\"1\" class=\"dataframe\">\n",
       "  <thead>\n",
       "    <tr style=\"text-align: right;\">\n",
       "      <th></th>\n",
       "      <th>officeCode</th>\n",
       "      <th>city</th>\n",
       "      <th>phone</th>\n",
       "      <th>addressLine1</th>\n",
       "      <th>addressLine2</th>\n",
       "      <th>state</th>\n",
       "      <th>country</th>\n",
       "      <th>postalCode</th>\n",
       "      <th>territory</th>\n",
       "    </tr>\n",
       "  </thead>\n",
       "  <tbody>\n",
       "    <tr>\n",
       "      <th>0</th>\n",
       "      <td>1</td>\n",
       "      <td>San Francisco</td>\n",
       "      <td>+1 650 219 4782</td>\n",
       "      <td>100 Market Street</td>\n",
       "      <td>Suite 300</td>\n",
       "      <td>CA</td>\n",
       "      <td>USA</td>\n",
       "      <td>94080</td>\n",
       "      <td>NA</td>\n",
       "    </tr>\n",
       "    <tr>\n",
       "      <th>1</th>\n",
       "      <td>2</td>\n",
       "      <td>Boston</td>\n",
       "      <td>+1 215 837 0825</td>\n",
       "      <td>1550 Court Place</td>\n",
       "      <td>Suite 102</td>\n",
       "      <td>MA</td>\n",
       "      <td>USA</td>\n",
       "      <td>02107</td>\n",
       "      <td>NA</td>\n",
       "    </tr>\n",
       "    <tr>\n",
       "      <th>2</th>\n",
       "      <td>3</td>\n",
       "      <td>NYC</td>\n",
       "      <td>+1 212 555 3000</td>\n",
       "      <td>523 East 53rd Street</td>\n",
       "      <td>apt. 5A</td>\n",
       "      <td>NY</td>\n",
       "      <td>USA</td>\n",
       "      <td>10022</td>\n",
       "      <td>NA</td>\n",
       "    </tr>\n",
       "    <tr>\n",
       "      <th>3</th>\n",
       "      <td>4</td>\n",
       "      <td>Paris</td>\n",
       "      <td>+33 14 723 4404</td>\n",
       "      <td>43 Rue Jouffroy D'abbans</td>\n",
       "      <td>None</td>\n",
       "      <td>None</td>\n",
       "      <td>France</td>\n",
       "      <td>75017</td>\n",
       "      <td>EMEA</td>\n",
       "    </tr>\n",
       "    <tr>\n",
       "      <th>4</th>\n",
       "      <td>5</td>\n",
       "      <td>Tokyo</td>\n",
       "      <td>+81 33 224 5000</td>\n",
       "      <td>4-1 Kioicho</td>\n",
       "      <td>None</td>\n",
       "      <td>Chiyoda-Ku</td>\n",
       "      <td>Japan</td>\n",
       "      <td>102-8578</td>\n",
       "      <td>Japan</td>\n",
       "    </tr>\n",
       "  </tbody>\n",
       "</table>\n",
       "</div>"
      ],
      "text/plain": [
       "  officeCode           city            phone              addressLine1  \\\n",
       "0          1  San Francisco  +1 650 219 4782         100 Market Street   \n",
       "1          2         Boston  +1 215 837 0825          1550 Court Place   \n",
       "2          3            NYC  +1 212 555 3000      523 East 53rd Street   \n",
       "3          4          Paris  +33 14 723 4404  43 Rue Jouffroy D'abbans   \n",
       "4          5          Tokyo  +81 33 224 5000               4-1 Kioicho   \n",
       "\n",
       "  addressLine2       state country postalCode territory  \n",
       "0    Suite 300          CA     USA      94080        NA  \n",
       "1    Suite 102          MA     USA      02107        NA  \n",
       "2      apt. 5A          NY     USA      10022        NA  \n",
       "3         None        None  France      75017      EMEA  \n",
       "4         None  Chiyoda-Ku   Japan   102-8578     Japan  "
      ]
     },
     "execution_count": 7,
     "metadata": {},
     "output_type": "execute_result"
    }
   ],
   "source": [
    "offices.head()"
   ]
  },
  {
   "cell_type": "code",
   "execution_count": 8,
   "id": "05f74a4d-0900-421c-b15e-aeaa95f550d2",
   "metadata": {},
   "outputs": [
    {
     "data": {
      "text/plain": [
       "officeCode      0\n",
       "city            0\n",
       "phone           0\n",
       "addressLine1    0\n",
       "addressLine2    2\n",
       "state           3\n",
       "country         0\n",
       "postalCode      0\n",
       "territory       0\n",
       "dtype: int64"
      ]
     },
     "execution_count": 8,
     "metadata": {},
     "output_type": "execute_result"
    }
   ],
   "source": [
    "offices.isnull().sum()"
   ]
  },
  {
   "cell_type": "code",
   "execution_count": 9,
   "id": "9a0e7333-533f-46b6-8f6a-803080530e33",
   "metadata": {},
   "outputs": [],
   "source": [
    "cursordb.execute('select * from orders;')\n",
    "orders_col = cursordb.column_names\n",
    "orders = cursordb.fetchall()\n",
    "orders = pd.DataFrame(orders,columns = orders_col)"
   ]
  },
  {
   "cell_type": "code",
   "execution_count": 10,
   "id": "bb5f70bf-cf04-44a9-af98-0304b4b2e9e5",
   "metadata": {},
   "outputs": [
    {
     "data": {
      "text/html": [
       "<div>\n",
       "<style scoped>\n",
       "    .dataframe tbody tr th:only-of-type {\n",
       "        vertical-align: middle;\n",
       "    }\n",
       "\n",
       "    .dataframe tbody tr th {\n",
       "        vertical-align: top;\n",
       "    }\n",
       "\n",
       "    .dataframe thead th {\n",
       "        text-align: right;\n",
       "    }\n",
       "</style>\n",
       "<table border=\"1\" class=\"dataframe\">\n",
       "  <thead>\n",
       "    <tr style=\"text-align: right;\">\n",
       "      <th></th>\n",
       "      <th>orderNumber</th>\n",
       "      <th>orderDate</th>\n",
       "      <th>requiredDate</th>\n",
       "      <th>shippedDate</th>\n",
       "      <th>status</th>\n",
       "      <th>comments</th>\n",
       "      <th>customerNumber</th>\n",
       "    </tr>\n",
       "  </thead>\n",
       "  <tbody>\n",
       "    <tr>\n",
       "      <th>0</th>\n",
       "      <td>10100</td>\n",
       "      <td>2003-01-06</td>\n",
       "      <td>2003-01-13</td>\n",
       "      <td>2003-01-10</td>\n",
       "      <td>Shipped</td>\n",
       "      <td>None</td>\n",
       "      <td>363</td>\n",
       "    </tr>\n",
       "    <tr>\n",
       "      <th>1</th>\n",
       "      <td>10101</td>\n",
       "      <td>2003-01-09</td>\n",
       "      <td>2003-01-18</td>\n",
       "      <td>2003-01-11</td>\n",
       "      <td>Shipped</td>\n",
       "      <td>Check on availability.</td>\n",
       "      <td>128</td>\n",
       "    </tr>\n",
       "    <tr>\n",
       "      <th>2</th>\n",
       "      <td>10102</td>\n",
       "      <td>2003-01-10</td>\n",
       "      <td>2003-01-18</td>\n",
       "      <td>2003-01-14</td>\n",
       "      <td>Shipped</td>\n",
       "      <td>None</td>\n",
       "      <td>181</td>\n",
       "    </tr>\n",
       "    <tr>\n",
       "      <th>3</th>\n",
       "      <td>10103</td>\n",
       "      <td>2003-01-29</td>\n",
       "      <td>2003-02-07</td>\n",
       "      <td>2003-02-02</td>\n",
       "      <td>Shipped</td>\n",
       "      <td>None</td>\n",
       "      <td>121</td>\n",
       "    </tr>\n",
       "    <tr>\n",
       "      <th>4</th>\n",
       "      <td>10104</td>\n",
       "      <td>2003-01-31</td>\n",
       "      <td>2003-02-09</td>\n",
       "      <td>2003-02-01</td>\n",
       "      <td>Shipped</td>\n",
       "      <td>None</td>\n",
       "      <td>141</td>\n",
       "    </tr>\n",
       "  </tbody>\n",
       "</table>\n",
       "</div>"
      ],
      "text/plain": [
       "   orderNumber   orderDate requiredDate shippedDate   status  \\\n",
       "0        10100  2003-01-06   2003-01-13  2003-01-10  Shipped   \n",
       "1        10101  2003-01-09   2003-01-18  2003-01-11  Shipped   \n",
       "2        10102  2003-01-10   2003-01-18  2003-01-14  Shipped   \n",
       "3        10103  2003-01-29   2003-02-07  2003-02-02  Shipped   \n",
       "4        10104  2003-01-31   2003-02-09  2003-02-01  Shipped   \n",
       "\n",
       "                 comments  customerNumber  \n",
       "0                    None             363  \n",
       "1  Check on availability.             128  \n",
       "2                    None             181  \n",
       "3                    None             121  \n",
       "4                    None             141  "
      ]
     },
     "execution_count": 10,
     "metadata": {},
     "output_type": "execute_result"
    }
   ],
   "source": [
    "orders.head()"
   ]
  },
  {
   "cell_type": "code",
   "execution_count": 11,
   "id": "20789970-c1c5-4eab-bbe2-8140d76615f7",
   "metadata": {},
   "outputs": [
    {
     "data": {
      "text/plain": [
       "orderNumber         0\n",
       "orderDate           0\n",
       "requiredDate        0\n",
       "shippedDate        14\n",
       "status              0\n",
       "comments          246\n",
       "customerNumber      0\n",
       "dtype: int64"
      ]
     },
     "execution_count": 11,
     "metadata": {},
     "output_type": "execute_result"
    }
   ],
   "source": [
    "orders.isnull().sum()"
   ]
  },
  {
   "cell_type": "code",
   "execution_count": 12,
   "id": "1ebac58a-983a-4138-a354-b2135a171b2b",
   "metadata": {},
   "outputs": [],
   "source": [
    "cursordb.execute('select * from employees;')\n",
    "emp_col = cursordb.column_names\n",
    "employees = cursordb.fetchall()\n",
    "employees = pd.DataFrame(employees,columns = emp_col)\n"
   ]
  },
  {
   "cell_type": "code",
   "execution_count": 13,
   "id": "1199e159-a84c-488b-a680-714d90338d27",
   "metadata": {},
   "outputs": [
    {
     "data": {
      "text/html": [
       "<div>\n",
       "<style scoped>\n",
       "    .dataframe tbody tr th:only-of-type {\n",
       "        vertical-align: middle;\n",
       "    }\n",
       "\n",
       "    .dataframe tbody tr th {\n",
       "        vertical-align: top;\n",
       "    }\n",
       "\n",
       "    .dataframe thead th {\n",
       "        text-align: right;\n",
       "    }\n",
       "</style>\n",
       "<table border=\"1\" class=\"dataframe\">\n",
       "  <thead>\n",
       "    <tr style=\"text-align: right;\">\n",
       "      <th></th>\n",
       "      <th>employeeNumber</th>\n",
       "      <th>lastName</th>\n",
       "      <th>firstName</th>\n",
       "      <th>extension</th>\n",
       "      <th>email</th>\n",
       "      <th>officeCode</th>\n",
       "      <th>reportsTo</th>\n",
       "      <th>jobTitle</th>\n",
       "    </tr>\n",
       "  </thead>\n",
       "  <tbody>\n",
       "    <tr>\n",
       "      <th>0</th>\n",
       "      <td>1002</td>\n",
       "      <td>Murphy</td>\n",
       "      <td>Diane</td>\n",
       "      <td>x5800</td>\n",
       "      <td>dmurphy@classicmodelcars.com</td>\n",
       "      <td>1</td>\n",
       "      <td>NaN</td>\n",
       "      <td>President</td>\n",
       "    </tr>\n",
       "    <tr>\n",
       "      <th>1</th>\n",
       "      <td>1056</td>\n",
       "      <td>Patterson</td>\n",
       "      <td>Mary</td>\n",
       "      <td>x4611</td>\n",
       "      <td>mpatterso@classicmodelcars.com</td>\n",
       "      <td>1</td>\n",
       "      <td>1002.0</td>\n",
       "      <td>VP Sales</td>\n",
       "    </tr>\n",
       "    <tr>\n",
       "      <th>2</th>\n",
       "      <td>1076</td>\n",
       "      <td>Firrelli</td>\n",
       "      <td>Jeff</td>\n",
       "      <td>x9273</td>\n",
       "      <td>jfirrelli@classicmodelcars.com</td>\n",
       "      <td>1</td>\n",
       "      <td>1002.0</td>\n",
       "      <td>VP Marketing</td>\n",
       "    </tr>\n",
       "    <tr>\n",
       "      <th>3</th>\n",
       "      <td>1088</td>\n",
       "      <td>Patterson</td>\n",
       "      <td>William</td>\n",
       "      <td>x4871</td>\n",
       "      <td>wpatterson@classicmodelcars.com</td>\n",
       "      <td>6</td>\n",
       "      <td>1056.0</td>\n",
       "      <td>Sales Manager (APAC)</td>\n",
       "    </tr>\n",
       "    <tr>\n",
       "      <th>4</th>\n",
       "      <td>1102</td>\n",
       "      <td>Bondur</td>\n",
       "      <td>Gerard</td>\n",
       "      <td>x5408</td>\n",
       "      <td>gbondur@classicmodelcars.com</td>\n",
       "      <td>4</td>\n",
       "      <td>1056.0</td>\n",
       "      <td>Sale Manager (EMEA)</td>\n",
       "    </tr>\n",
       "  </tbody>\n",
       "</table>\n",
       "</div>"
      ],
      "text/plain": [
       "   employeeNumber   lastName firstName extension  \\\n",
       "0            1002     Murphy     Diane     x5800   \n",
       "1            1056  Patterson      Mary     x4611   \n",
       "2            1076   Firrelli      Jeff     x9273   \n",
       "3            1088  Patterson   William     x4871   \n",
       "4            1102     Bondur    Gerard     x5408   \n",
       "\n",
       "                             email officeCode  reportsTo              jobTitle  \n",
       "0     dmurphy@classicmodelcars.com          1        NaN             President  \n",
       "1   mpatterso@classicmodelcars.com          1     1002.0              VP Sales  \n",
       "2   jfirrelli@classicmodelcars.com          1     1002.0          VP Marketing  \n",
       "3  wpatterson@classicmodelcars.com          6     1056.0  Sales Manager (APAC)  \n",
       "4     gbondur@classicmodelcars.com          4     1056.0   Sale Manager (EMEA)  "
      ]
     },
     "execution_count": 13,
     "metadata": {},
     "output_type": "execute_result"
    }
   ],
   "source": [
    "employees.head()"
   ]
  },
  {
   "cell_type": "code",
   "execution_count": 14,
   "id": "203874e4-79b8-40dc-a30b-d44ab0a47a64",
   "metadata": {},
   "outputs": [
    {
     "data": {
      "text/plain": [
       "employeeNumber    0\n",
       "lastName          0\n",
       "firstName         0\n",
       "extension         0\n",
       "email             0\n",
       "officeCode        0\n",
       "reportsTo         1\n",
       "jobTitle          0\n",
       "dtype: int64"
      ]
     },
     "execution_count": 14,
     "metadata": {},
     "output_type": "execute_result"
    }
   ],
   "source": [
    "employees.isnull().sum()"
   ]
  },
  {
   "cell_type": "code",
   "execution_count": 15,
   "id": "adfa07dd-2824-45e6-a42d-4864289fa192",
   "metadata": {},
   "outputs": [],
   "source": [
    "cursordb.execute('select * from customers;')\n",
    "cust_col = cursordb.column_names\n",
    "customers = cursordb.fetchall()"
   ]
  },
  {
   "cell_type": "code",
   "execution_count": 16,
   "id": "77f48764-9d7c-4745-93ad-a1011c98428a",
   "metadata": {},
   "outputs": [],
   "source": [
    "customers = pd.DataFrame(customers,columns = cust_col)"
   ]
  },
  {
   "cell_type": "code",
   "execution_count": 17,
   "id": "5de6a2d7-4fc7-4a51-b5a1-4d33c609c53d",
   "metadata": {},
   "outputs": [
    {
     "data": {
      "text/html": [
       "<div>\n",
       "<style scoped>\n",
       "    .dataframe tbody tr th:only-of-type {\n",
       "        vertical-align: middle;\n",
       "    }\n",
       "\n",
       "    .dataframe tbody tr th {\n",
       "        vertical-align: top;\n",
       "    }\n",
       "\n",
       "    .dataframe thead th {\n",
       "        text-align: right;\n",
       "    }\n",
       "</style>\n",
       "<table border=\"1\" class=\"dataframe\">\n",
       "  <thead>\n",
       "    <tr style=\"text-align: right;\">\n",
       "      <th></th>\n",
       "      <th>customerNumber</th>\n",
       "      <th>customerName</th>\n",
       "      <th>contactLastName</th>\n",
       "      <th>contactFirstName</th>\n",
       "      <th>phone</th>\n",
       "      <th>addressLine1</th>\n",
       "      <th>addressLine2</th>\n",
       "      <th>city</th>\n",
       "      <th>state</th>\n",
       "      <th>postalCode</th>\n",
       "      <th>country</th>\n",
       "      <th>salesRepEmployeeNumber</th>\n",
       "      <th>creditLimit</th>\n",
       "    </tr>\n",
       "  </thead>\n",
       "  <tbody>\n",
       "    <tr>\n",
       "      <th>0</th>\n",
       "      <td>103</td>\n",
       "      <td>Atelier graphique</td>\n",
       "      <td>Schmitt</td>\n",
       "      <td>Carine</td>\n",
       "      <td>40.32.2555</td>\n",
       "      <td>54, rue Royale</td>\n",
       "      <td>None</td>\n",
       "      <td>Nantes</td>\n",
       "      <td>None</td>\n",
       "      <td>44000</td>\n",
       "      <td>France</td>\n",
       "      <td>1370.0</td>\n",
       "      <td>21000.00</td>\n",
       "    </tr>\n",
       "    <tr>\n",
       "      <th>1</th>\n",
       "      <td>112</td>\n",
       "      <td>Signal Gift Stores</td>\n",
       "      <td>King</td>\n",
       "      <td>Jean</td>\n",
       "      <td>7025551838</td>\n",
       "      <td>8489 Strong St.</td>\n",
       "      <td>None</td>\n",
       "      <td>Las Vegas</td>\n",
       "      <td>NV</td>\n",
       "      <td>83030</td>\n",
       "      <td>USA</td>\n",
       "      <td>1166.0</td>\n",
       "      <td>71800.00</td>\n",
       "    </tr>\n",
       "    <tr>\n",
       "      <th>2</th>\n",
       "      <td>114</td>\n",
       "      <td>Australian Collectors, Co.</td>\n",
       "      <td>Ferguson</td>\n",
       "      <td>Peter</td>\n",
       "      <td>03 9520 4555</td>\n",
       "      <td>636 St Kilda Road</td>\n",
       "      <td>Level 3</td>\n",
       "      <td>Melbourne</td>\n",
       "      <td>Victoria</td>\n",
       "      <td>3004</td>\n",
       "      <td>Australia</td>\n",
       "      <td>1611.0</td>\n",
       "      <td>117300.00</td>\n",
       "    </tr>\n",
       "    <tr>\n",
       "      <th>3</th>\n",
       "      <td>119</td>\n",
       "      <td>La Rochelle Gifts</td>\n",
       "      <td>Labrune</td>\n",
       "      <td>Janine</td>\n",
       "      <td>40.67.8555</td>\n",
       "      <td>67, rue des Cinquante Otages</td>\n",
       "      <td>None</td>\n",
       "      <td>Nantes</td>\n",
       "      <td>None</td>\n",
       "      <td>44000</td>\n",
       "      <td>France</td>\n",
       "      <td>1370.0</td>\n",
       "      <td>118200.00</td>\n",
       "    </tr>\n",
       "    <tr>\n",
       "      <th>4</th>\n",
       "      <td>121</td>\n",
       "      <td>Baane Mini Imports</td>\n",
       "      <td>Bergulfsen</td>\n",
       "      <td>Jonas</td>\n",
       "      <td>07-98 9555</td>\n",
       "      <td>Erling Skakkes gate 78</td>\n",
       "      <td>None</td>\n",
       "      <td>Stavern</td>\n",
       "      <td>None</td>\n",
       "      <td>4110</td>\n",
       "      <td>Norway</td>\n",
       "      <td>1504.0</td>\n",
       "      <td>81700.00</td>\n",
       "    </tr>\n",
       "  </tbody>\n",
       "</table>\n",
       "</div>"
      ],
      "text/plain": [
       "   customerNumber                customerName contactLastName  \\\n",
       "0             103           Atelier graphique         Schmitt   \n",
       "1             112          Signal Gift Stores            King   \n",
       "2             114  Australian Collectors, Co.        Ferguson   \n",
       "3             119           La Rochelle Gifts         Labrune   \n",
       "4             121          Baane Mini Imports      Bergulfsen   \n",
       "\n",
       "  contactFirstName         phone                  addressLine1 addressLine2  \\\n",
       "0          Carine     40.32.2555                54, rue Royale         None   \n",
       "1             Jean    7025551838               8489 Strong St.         None   \n",
       "2            Peter  03 9520 4555             636 St Kilda Road      Level 3   \n",
       "3          Janine     40.67.8555  67, rue des Cinquante Otages         None   \n",
       "4           Jonas     07-98 9555        Erling Skakkes gate 78         None   \n",
       "\n",
       "        city     state postalCode    country  salesRepEmployeeNumber  \\\n",
       "0     Nantes      None      44000     France                  1370.0   \n",
       "1  Las Vegas        NV      83030        USA                  1166.0   \n",
       "2  Melbourne  Victoria       3004  Australia                  1611.0   \n",
       "3     Nantes      None      44000     France                  1370.0   \n",
       "4    Stavern      None       4110     Norway                  1504.0   \n",
       "\n",
       "  creditLimit  \n",
       "0    21000.00  \n",
       "1    71800.00  \n",
       "2   117300.00  \n",
       "3   118200.00  \n",
       "4    81700.00  "
      ]
     },
     "execution_count": 17,
     "metadata": {},
     "output_type": "execute_result"
    }
   ],
   "source": [
    "customers.head()"
   ]
  },
  {
   "cell_type": "code",
   "execution_count": 18,
   "id": "47c88a9f-8d5b-4fa8-afcc-652ddc029675",
   "metadata": {},
   "outputs": [
    {
     "data": {
      "text/plain": [
       "customerNumber              0\n",
       "customerName                0\n",
       "contactLastName             0\n",
       "contactFirstName            0\n",
       "phone                       0\n",
       "addressLine1                0\n",
       "addressLine2              100\n",
       "city                        0\n",
       "state                      73\n",
       "postalCode                  7\n",
       "country                     0\n",
       "salesRepEmployeeNumber     22\n",
       "creditLimit                 0\n",
       "dtype: int64"
      ]
     },
     "execution_count": 18,
     "metadata": {},
     "output_type": "execute_result"
    }
   ],
   "source": [
    "customers.isnull().sum()"
   ]
  },
  {
   "cell_type": "code",
   "execution_count": 19,
   "id": "20bd1859-b915-4883-9807-6b05b7ea7295",
   "metadata": {},
   "outputs": [],
   "source": [
    "cursordb.execute('select * from orderdetails;')\n",
    "od_col = cursordb.column_names\n",
    "orderdetails = cursordb.fetchall()\n",
    "orderdetails = pd.DataFrame(orderdetails, columns = od_col)"
   ]
  },
  {
   "cell_type": "code",
   "execution_count": 20,
   "id": "27eb7017-5228-47ab-9f3e-02977cf5f62d",
   "metadata": {},
   "outputs": [
    {
     "data": {
      "text/html": [
       "<div>\n",
       "<style scoped>\n",
       "    .dataframe tbody tr th:only-of-type {\n",
       "        vertical-align: middle;\n",
       "    }\n",
       "\n",
       "    .dataframe tbody tr th {\n",
       "        vertical-align: top;\n",
       "    }\n",
       "\n",
       "    .dataframe thead th {\n",
       "        text-align: right;\n",
       "    }\n",
       "</style>\n",
       "<table border=\"1\" class=\"dataframe\">\n",
       "  <thead>\n",
       "    <tr style=\"text-align: right;\">\n",
       "      <th></th>\n",
       "      <th>orderNumber</th>\n",
       "      <th>productCode</th>\n",
       "      <th>quantityOrdered</th>\n",
       "      <th>priceEach</th>\n",
       "      <th>orderLineNumber</th>\n",
       "    </tr>\n",
       "  </thead>\n",
       "  <tbody>\n",
       "    <tr>\n",
       "      <th>0</th>\n",
       "      <td>10100</td>\n",
       "      <td>S18_1749</td>\n",
       "      <td>30</td>\n",
       "      <td>136.00</td>\n",
       "      <td>3</td>\n",
       "    </tr>\n",
       "    <tr>\n",
       "      <th>1</th>\n",
       "      <td>10100</td>\n",
       "      <td>S18_2248</td>\n",
       "      <td>50</td>\n",
       "      <td>55.09</td>\n",
       "      <td>2</td>\n",
       "    </tr>\n",
       "    <tr>\n",
       "      <th>2</th>\n",
       "      <td>10100</td>\n",
       "      <td>S18_4409</td>\n",
       "      <td>22</td>\n",
       "      <td>75.46</td>\n",
       "      <td>4</td>\n",
       "    </tr>\n",
       "    <tr>\n",
       "      <th>3</th>\n",
       "      <td>10100</td>\n",
       "      <td>S24_3969</td>\n",
       "      <td>49</td>\n",
       "      <td>35.29</td>\n",
       "      <td>1</td>\n",
       "    </tr>\n",
       "    <tr>\n",
       "      <th>4</th>\n",
       "      <td>10101</td>\n",
       "      <td>S18_2325</td>\n",
       "      <td>25</td>\n",
       "      <td>108.06</td>\n",
       "      <td>4</td>\n",
       "    </tr>\n",
       "  </tbody>\n",
       "</table>\n",
       "</div>"
      ],
      "text/plain": [
       "   orderNumber productCode  quantityOrdered priceEach  orderLineNumber\n",
       "0        10100    S18_1749               30    136.00                3\n",
       "1        10100    S18_2248               50     55.09                2\n",
       "2        10100    S18_4409               22     75.46                4\n",
       "3        10100    S24_3969               49     35.29                1\n",
       "4        10101    S18_2325               25    108.06                4"
      ]
     },
     "execution_count": 20,
     "metadata": {},
     "output_type": "execute_result"
    }
   ],
   "source": [
    "orderdetails.head()"
   ]
  },
  {
   "cell_type": "code",
   "execution_count": 21,
   "id": "e690f321-3f1f-44d4-a027-e22e4e7a3fb4",
   "metadata": {},
   "outputs": [
    {
     "data": {
      "text/plain": [
       "orderNumber        0\n",
       "productCode        0\n",
       "quantityOrdered    0\n",
       "priceEach          0\n",
       "orderLineNumber    0\n",
       "dtype: int64"
      ]
     },
     "execution_count": 21,
     "metadata": {},
     "output_type": "execute_result"
    }
   ],
   "source": [
    "orderdetails.isnull().sum()"
   ]
  },
  {
   "cell_type": "code",
   "execution_count": null,
   "id": "bb2f5a43-c861-479c-ab92-3327fe48bbe0",
   "metadata": {},
   "outputs": [],
   "source": []
  },
  {
   "cell_type": "code",
   "execution_count": 22,
   "id": "e21fc23a-b8d3-42ab-862f-61ce76eb1aa6",
   "metadata": {},
   "outputs": [],
   "source": [
    "cursordb.execute('select * from payments;')\n",
    "pay_col = cursordb.column_names\n",
    "payments = cursordb.fetchall()\n",
    "payments = pd.DataFrame(payments, columns = pay_col)"
   ]
  },
  {
   "cell_type": "code",
   "execution_count": 23,
   "id": "f02069e1-4e6c-4865-ad8c-894dd31d52ff",
   "metadata": {},
   "outputs": [
    {
     "data": {
      "text/html": [
       "<div>\n",
       "<style scoped>\n",
       "    .dataframe tbody tr th:only-of-type {\n",
       "        vertical-align: middle;\n",
       "    }\n",
       "\n",
       "    .dataframe tbody tr th {\n",
       "        vertical-align: top;\n",
       "    }\n",
       "\n",
       "    .dataframe thead th {\n",
       "        text-align: right;\n",
       "    }\n",
       "</style>\n",
       "<table border=\"1\" class=\"dataframe\">\n",
       "  <thead>\n",
       "    <tr style=\"text-align: right;\">\n",
       "      <th></th>\n",
       "      <th>customerNumber</th>\n",
       "      <th>checkNumber</th>\n",
       "      <th>paymentDate</th>\n",
       "      <th>amount</th>\n",
       "    </tr>\n",
       "  </thead>\n",
       "  <tbody>\n",
       "    <tr>\n",
       "      <th>0</th>\n",
       "      <td>103</td>\n",
       "      <td>HQ336336</td>\n",
       "      <td>2004-10-19</td>\n",
       "      <td>6066.78</td>\n",
       "    </tr>\n",
       "    <tr>\n",
       "      <th>1</th>\n",
       "      <td>103</td>\n",
       "      <td>JM555205</td>\n",
       "      <td>2003-06-05</td>\n",
       "      <td>14571.44</td>\n",
       "    </tr>\n",
       "    <tr>\n",
       "      <th>2</th>\n",
       "      <td>103</td>\n",
       "      <td>OM314933</td>\n",
       "      <td>2004-12-18</td>\n",
       "      <td>1676.14</td>\n",
       "    </tr>\n",
       "    <tr>\n",
       "      <th>3</th>\n",
       "      <td>112</td>\n",
       "      <td>BO864823</td>\n",
       "      <td>2004-12-17</td>\n",
       "      <td>14191.12</td>\n",
       "    </tr>\n",
       "    <tr>\n",
       "      <th>4</th>\n",
       "      <td>112</td>\n",
       "      <td>HQ55022</td>\n",
       "      <td>2003-06-06</td>\n",
       "      <td>32641.98</td>\n",
       "    </tr>\n",
       "  </tbody>\n",
       "</table>\n",
       "</div>"
      ],
      "text/plain": [
       "   customerNumber checkNumber paymentDate    amount\n",
       "0             103    HQ336336  2004-10-19   6066.78\n",
       "1             103    JM555205  2003-06-05  14571.44\n",
       "2             103    OM314933  2004-12-18   1676.14\n",
       "3             112    BO864823  2004-12-17  14191.12\n",
       "4             112     HQ55022  2003-06-06  32641.98"
      ]
     },
     "execution_count": 23,
     "metadata": {},
     "output_type": "execute_result"
    }
   ],
   "source": [
    "payments.head()"
   ]
  },
  {
   "cell_type": "code",
   "execution_count": 24,
   "id": "ff624e1b-9fef-4f6c-981f-cef50116cce1",
   "metadata": {},
   "outputs": [
    {
     "data": {
      "text/plain": [
       "customerNumber    0\n",
       "checkNumber       0\n",
       "paymentDate       0\n",
       "amount            0\n",
       "dtype: int64"
      ]
     },
     "execution_count": 24,
     "metadata": {},
     "output_type": "execute_result"
    }
   ],
   "source": [
    "payments.isnull().sum()"
   ]
  },
  {
   "cell_type": "code",
   "execution_count": 25,
   "id": "9d317039-0a15-4e71-b778-b930bf740edb",
   "metadata": {},
   "outputs": [],
   "source": [
    "cursordb.execute('select * from productlines;')\n",
    "productlines_col = cursordb.column_names\n",
    "productlines = cursordb.fetchall()\n",
    "productlines = pd.DataFrame(productlines,columns= productlines_col)"
   ]
  },
  {
   "cell_type": "code",
   "execution_count": 26,
   "id": "4515ea83-873f-4d7c-82eb-d9c7606a1c82",
   "metadata": {},
   "outputs": [
    {
     "data": {
      "text/html": [
       "<div>\n",
       "<style scoped>\n",
       "    .dataframe tbody tr th:only-of-type {\n",
       "        vertical-align: middle;\n",
       "    }\n",
       "\n",
       "    .dataframe tbody tr th {\n",
       "        vertical-align: top;\n",
       "    }\n",
       "\n",
       "    .dataframe thead th {\n",
       "        text-align: right;\n",
       "    }\n",
       "</style>\n",
       "<table border=\"1\" class=\"dataframe\">\n",
       "  <thead>\n",
       "    <tr style=\"text-align: right;\">\n",
       "      <th></th>\n",
       "      <th>productLine</th>\n",
       "      <th>textDescription</th>\n",
       "      <th>htmlDescription</th>\n",
       "      <th>image</th>\n",
       "    </tr>\n",
       "  </thead>\n",
       "  <tbody>\n",
       "    <tr>\n",
       "      <th>0</th>\n",
       "      <td>Classic Cars</td>\n",
       "      <td>Attention car enthusiasts: Make your wildest c...</td>\n",
       "      <td>None</td>\n",
       "      <td>None</td>\n",
       "    </tr>\n",
       "    <tr>\n",
       "      <th>1</th>\n",
       "      <td>Motorcycles</td>\n",
       "      <td>Our motorcycles are state of the art replicas ...</td>\n",
       "      <td>None</td>\n",
       "      <td>None</td>\n",
       "    </tr>\n",
       "    <tr>\n",
       "      <th>2</th>\n",
       "      <td>Planes</td>\n",
       "      <td>Unique, diecast airplane and helicopter replic...</td>\n",
       "      <td>None</td>\n",
       "      <td>None</td>\n",
       "    </tr>\n",
       "    <tr>\n",
       "      <th>3</th>\n",
       "      <td>Ships</td>\n",
       "      <td>The perfect holiday or anniversary gift for ex...</td>\n",
       "      <td>None</td>\n",
       "      <td>None</td>\n",
       "    </tr>\n",
       "    <tr>\n",
       "      <th>4</th>\n",
       "      <td>Trains</td>\n",
       "      <td>Model trains are a rewarding hobby for enthusi...</td>\n",
       "      <td>None</td>\n",
       "      <td>None</td>\n",
       "    </tr>\n",
       "  </tbody>\n",
       "</table>\n",
       "</div>"
      ],
      "text/plain": [
       "    productLine                                    textDescription  \\\n",
       "0  Classic Cars  Attention car enthusiasts: Make your wildest c...   \n",
       "1   Motorcycles  Our motorcycles are state of the art replicas ...   \n",
       "2        Planes  Unique, diecast airplane and helicopter replic...   \n",
       "3         Ships  The perfect holiday or anniversary gift for ex...   \n",
       "4        Trains  Model trains are a rewarding hobby for enthusi...   \n",
       "\n",
       "  htmlDescription image  \n",
       "0            None  None  \n",
       "1            None  None  \n",
       "2            None  None  \n",
       "3            None  None  \n",
       "4            None  None  "
      ]
     },
     "execution_count": 26,
     "metadata": {},
     "output_type": "execute_result"
    }
   ],
   "source": [
    "productlines.head()"
   ]
  },
  {
   "cell_type": "code",
   "execution_count": 27,
   "id": "f47cf2ed-bebb-41f6-9c8f-419729b1a993",
   "metadata": {},
   "outputs": [
    {
     "data": {
      "text/plain": [
       "productLine        0\n",
       "textDescription    0\n",
       "htmlDescription    7\n",
       "image              7\n",
       "dtype: int64"
      ]
     },
     "execution_count": 27,
     "metadata": {},
     "output_type": "execute_result"
    }
   ],
   "source": [
    "productlines.isnull().sum()"
   ]
  },
  {
   "cell_type": "code",
   "execution_count": 28,
   "id": "c8c1ed17-1129-4d36-b182-37e5878c0155",
   "metadata": {},
   "outputs": [],
   "source": [
    "cursordb.execute('select * from products;')\n",
    "product_col = cursordb.column_names\n",
    "products = cursordb.fetchall()\n",
    "products = pd.DataFrame(products,columns= product_col)"
   ]
  },
  {
   "cell_type": "code",
   "execution_count": 29,
   "id": "5d2cd836-e934-49cd-9c7b-d2794d49a347",
   "metadata": {},
   "outputs": [
    {
     "data": {
      "text/plain": [
       "productCode           0\n",
       "productName           0\n",
       "productLine           0\n",
       "productScale          0\n",
       "productVendor         0\n",
       "productDescription    0\n",
       "quantityInStock       0\n",
       "buyPrice              0\n",
       "MSRP                  0\n",
       "dtype: int64"
      ]
     },
     "execution_count": 29,
     "metadata": {},
     "output_type": "execute_result"
    }
   ],
   "source": [
    "products.isnull().sum()"
   ]
  },
  {
   "cell_type": "code",
   "execution_count": 30,
   "id": "7991e735-3f9b-4aef-9163-5e560f6b528a",
   "metadata": {},
   "outputs": [
    {
     "data": {
      "text/html": [
       "<div>\n",
       "<style scoped>\n",
       "    .dataframe tbody tr th:only-of-type {\n",
       "        vertical-align: middle;\n",
       "    }\n",
       "\n",
       "    .dataframe tbody tr th {\n",
       "        vertical-align: top;\n",
       "    }\n",
       "\n",
       "    .dataframe thead th {\n",
       "        text-align: right;\n",
       "    }\n",
       "</style>\n",
       "<table border=\"1\" class=\"dataframe\">\n",
       "  <thead>\n",
       "    <tr style=\"text-align: right;\">\n",
       "      <th></th>\n",
       "      <th>productCode</th>\n",
       "      <th>productName</th>\n",
       "      <th>productLine</th>\n",
       "      <th>productScale</th>\n",
       "      <th>productVendor</th>\n",
       "      <th>productDescription</th>\n",
       "      <th>quantityInStock</th>\n",
       "      <th>buyPrice</th>\n",
       "      <th>MSRP</th>\n",
       "    </tr>\n",
       "  </thead>\n",
       "  <tbody>\n",
       "    <tr>\n",
       "      <th>0</th>\n",
       "      <td>S10_1678</td>\n",
       "      <td>1969 Harley Davidson Ultimate Chopper</td>\n",
       "      <td>Motorcycles</td>\n",
       "      <td>1:10</td>\n",
       "      <td>Min Lin Diecast</td>\n",
       "      <td>This replica features working kickstand, front...</td>\n",
       "      <td>7933</td>\n",
       "      <td>48.81</td>\n",
       "      <td>95.70</td>\n",
       "    </tr>\n",
       "    <tr>\n",
       "      <th>1</th>\n",
       "      <td>S10_1949</td>\n",
       "      <td>1952 Alpine Renault 1300</td>\n",
       "      <td>Classic Cars</td>\n",
       "      <td>1:10</td>\n",
       "      <td>Classic Metal Creations</td>\n",
       "      <td>Turnable front wheels; steering function; deta...</td>\n",
       "      <td>7305</td>\n",
       "      <td>98.58</td>\n",
       "      <td>214.30</td>\n",
       "    </tr>\n",
       "    <tr>\n",
       "      <th>2</th>\n",
       "      <td>S10_2016</td>\n",
       "      <td>1996 Moto Guzzi 1100i</td>\n",
       "      <td>Motorcycles</td>\n",
       "      <td>1:10</td>\n",
       "      <td>Highway 66 Mini Classics</td>\n",
       "      <td>Official Moto Guzzi logos and insignias, saddl...</td>\n",
       "      <td>6625</td>\n",
       "      <td>68.99</td>\n",
       "      <td>118.94</td>\n",
       "    </tr>\n",
       "    <tr>\n",
       "      <th>3</th>\n",
       "      <td>S10_4698</td>\n",
       "      <td>2003 Harley-Davidson Eagle Drag Bike</td>\n",
       "      <td>Motorcycles</td>\n",
       "      <td>1:10</td>\n",
       "      <td>Red Start Diecast</td>\n",
       "      <td>Model features, official Harley Davidson logos...</td>\n",
       "      <td>5582</td>\n",
       "      <td>91.02</td>\n",
       "      <td>193.66</td>\n",
       "    </tr>\n",
       "    <tr>\n",
       "      <th>4</th>\n",
       "      <td>S10_4757</td>\n",
       "      <td>1972 Alfa Romeo GTA</td>\n",
       "      <td>Classic Cars</td>\n",
       "      <td>1:10</td>\n",
       "      <td>Motor City Art Classics</td>\n",
       "      <td>Features include: Turnable front wheels; steer...</td>\n",
       "      <td>3252</td>\n",
       "      <td>85.68</td>\n",
       "      <td>136.00</td>\n",
       "    </tr>\n",
       "  </tbody>\n",
       "</table>\n",
       "</div>"
      ],
      "text/plain": [
       "  productCode                            productName   productLine  \\\n",
       "0    S10_1678  1969 Harley Davidson Ultimate Chopper   Motorcycles   \n",
       "1    S10_1949               1952 Alpine Renault 1300  Classic Cars   \n",
       "2    S10_2016                  1996 Moto Guzzi 1100i   Motorcycles   \n",
       "3    S10_4698   2003 Harley-Davidson Eagle Drag Bike   Motorcycles   \n",
       "4    S10_4757                    1972 Alfa Romeo GTA  Classic Cars   \n",
       "\n",
       "  productScale             productVendor  \\\n",
       "0         1:10           Min Lin Diecast   \n",
       "1         1:10   Classic Metal Creations   \n",
       "2         1:10  Highway 66 Mini Classics   \n",
       "3         1:10         Red Start Diecast   \n",
       "4         1:10   Motor City Art Classics   \n",
       "\n",
       "                                  productDescription  quantityInStock  \\\n",
       "0  This replica features working kickstand, front...             7933   \n",
       "1  Turnable front wheels; steering function; deta...             7305   \n",
       "2  Official Moto Guzzi logos and insignias, saddl...             6625   \n",
       "3  Model features, official Harley Davidson logos...             5582   \n",
       "4  Features include: Turnable front wheels; steer...             3252   \n",
       "\n",
       "  buyPrice    MSRP  \n",
       "0    48.81   95.70  \n",
       "1    98.58  214.30  \n",
       "2    68.99  118.94  \n",
       "3    91.02  193.66  \n",
       "4    85.68  136.00  "
      ]
     },
     "execution_count": 30,
     "metadata": {},
     "output_type": "execute_result"
    }
   ],
   "source": [
    "products.head()"
   ]
  },
  {
   "cell_type": "code",
   "execution_count": 31,
   "id": "2fe2ab7c-602c-4590-b1cb-4bbf3e4ee747",
   "metadata": {},
   "outputs": [],
   "source": [
    "cursordb.execute('SELECT p.productname, sum(od.quantityordered) \\\n",
    "                  FROM classicmodels.orderdetails \\\n",
    "                  od INNER JOIN classicmodels.products p \\\n",
    "                  ON p.productcode = od.productcode GROUP BY 1 order by 2 desc limit 10; ')\n",
    "col_name = cursordb.column_names\n",
    "data = cursordb.fetchall()\n",
    "product_quantity = pd.DataFrame(data,columns = col_name)"
   ]
  },
  {
   "cell_type": "code",
   "execution_count": 32,
   "id": "894353c8-7bbc-4ff4-b95b-6704468bd356",
   "metadata": {},
   "outputs": [
    {
     "data": {
      "text/html": [
       "<div>\n",
       "<style scoped>\n",
       "    .dataframe tbody tr th:only-of-type {\n",
       "        vertical-align: middle;\n",
       "    }\n",
       "\n",
       "    .dataframe tbody tr th {\n",
       "        vertical-align: top;\n",
       "    }\n",
       "\n",
       "    .dataframe thead th {\n",
       "        text-align: right;\n",
       "    }\n",
       "</style>\n",
       "<table border=\"1\" class=\"dataframe\">\n",
       "  <thead>\n",
       "    <tr style=\"text-align: right;\">\n",
       "      <th></th>\n",
       "      <th>productname</th>\n",
       "      <th>sum(od.quantityordered)</th>\n",
       "    </tr>\n",
       "  </thead>\n",
       "  <tbody>\n",
       "    <tr>\n",
       "      <th>0</th>\n",
       "      <td>1992 Ferrari 360 Spider red</td>\n",
       "      <td>1808</td>\n",
       "    </tr>\n",
       "    <tr>\n",
       "      <th>1</th>\n",
       "      <td>1937 Lincoln Berline</td>\n",
       "      <td>1111</td>\n",
       "    </tr>\n",
       "    <tr>\n",
       "      <th>2</th>\n",
       "      <td>American Airlines: MD-11S</td>\n",
       "      <td>1085</td>\n",
       "    </tr>\n",
       "    <tr>\n",
       "      <th>3</th>\n",
       "      <td>1941 Chevrolet Special Deluxe Cabriolet</td>\n",
       "      <td>1076</td>\n",
       "    </tr>\n",
       "    <tr>\n",
       "      <th>4</th>\n",
       "      <td>1930 Buick Marquette Phaeton</td>\n",
       "      <td>1074</td>\n",
       "    </tr>\n",
       "  </tbody>\n",
       "</table>\n",
       "</div>"
      ],
      "text/plain": [
       "                               productname sum(od.quantityordered)\n",
       "0              1992 Ferrari 360 Spider red                    1808\n",
       "1                     1937 Lincoln Berline                    1111\n",
       "2                American Airlines: MD-11S                    1085\n",
       "3  1941 Chevrolet Special Deluxe Cabriolet                    1076\n",
       "4             1930 Buick Marquette Phaeton                    1074"
      ]
     },
     "execution_count": 32,
     "metadata": {},
     "output_type": "execute_result"
    }
   ],
   "source": [
    "product_quantity.head()"
   ]
  },
  {
   "cell_type": "code",
   "execution_count": 34,
   "id": "a2804f93-5aa1-4072-a62d-e640ef6b6f88",
   "metadata": {},
   "outputs": [
    {
     "data": {
      "image/png": "[encoded data removed]",
      "text/plain": [
       "<Figure size 640x480 with 1 Axes>"
      ]
     },
     "metadata": {},
     "output_type": "display_data"
    }
   ],
   "source": [
    "sns.barplot(x = 'productname', y = 'sum(od.quantityordered)',data = product_quantity)\n",
    "plt.xlabel('Product')\n",
    "plt.ylabel('Quantity')\n",
    "plt.title('Product Quantity')\n",
    "plt.xticks(rotation = 90)\n",
    "plt.show()"
   ]
  },
  {
   "cell_type": "code",
   "execution_count": null,
   "id": "3bd28d37-38cc-4f96-897f-243e9a3d52c3",
   "metadata": {},
   "outputs": [],
   "source": []
  },
  {
   "cell_type": "code",
   "execution_count": null,
   "id": "bd419826-4c25-4a7e-96a4-67781ded70eb",
   "metadata": {},
   "outputs": [],
   "source": []
  },
  {
   "cell_type": "code",
   "execution_count": null,
   "id": "96eb3d81-d6ed-4f44-af36-330d6457876b",
   "metadata": {},
   "outputs": [],
   "source": []
  },
  {
   "cell_type": "code",
   "execution_count": null,
   "id": "5f97d6f9-1967-4199-af2c-be1be02b76dd",
   "metadata": {},
   "outputs": [],
   "source": []
  },
  {
   "cell_type": "code",
   "execution_count": null,
   "id": "565a6f45-3a76-4739-b3ce-0b889ed51803",
   "metadata": {},
   "outputs": [],
   "source": []
  },
  {
   "cell_type": "code",
   "execution_count": null,
   "id": "fb5e1599-1ea2-4385-8b53-63aa8e77cfa0",
   "metadata": {},
   "outputs": [],
   "source": []
  },
  {
   "cell_type": "code",
   "execution_count": null,
   "id": "6b42542f-6baf-456e-93f1-dcaf97ca4ba4",
   "metadata": {},
   "outputs": [],
   "source": []
  }
 ],
 "metadata": {
  "kernelspec": {
   "display_name": "Python 3 (ipykernel)",
   "language": "python",
   "name": "python3"
  },
  "language_info": {
   "codemirror_mode": {
    "name": "ipython",
    "version": 3
   },
   "file_extension": ".py",
   "mimetype": "text/x-python",
   "name": "python",
   "nbconvert_exporter": "python",
   "pygments_lexer": "ipython3",
   "version": "3.12.7"
  }
 },
 "nbformat": 4,
 "nbformat_minor": 5
}
